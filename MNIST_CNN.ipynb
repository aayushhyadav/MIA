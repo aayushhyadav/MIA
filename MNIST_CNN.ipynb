{
  "nbformat": 4,
  "nbformat_minor": 0,
  "metadata": {
    "colab": {
      "provenance": [],
      "collapsed_sections": [],
      "authorship_tag": "ABX9TyMPle33GFjfscTiGiFfTwbG",
      "include_colab_link": true
    },
    "kernelspec": {
      "name": "python3",
      "display_name": "Python 3"
    },
    "language_info": {
      "name": "python"
    }
  },
  "cells": [
    {
      "cell_type": "markdown",
      "metadata": {
        "id": "view-in-github",
        "colab_type": "text"
      },
      "source": [
        "<a href=\"https://colab.research.google.com/github/aayushhyadav/MIA/blob/feature%2Fmnist/MNIST_CNN.ipynb\" target=\"_parent\"><img src=\"https://colab.research.google.com/assets/colab-badge.svg\" alt=\"Open In Colab\"/></a>"
      ]
    },
    {
      "cell_type": "code",
      "execution_count": null,
      "metadata": {
        "id": "GYuxh0Id16qi"
      },
      "outputs": [],
      "source": [
        "!pip install tensorflow"
      ]
    },
    {
      "cell_type": "code",
      "source": [
        "import tensorflow as tf\n",
        "from matplotlib import pyplot as plt\n",
        "import pandas as pd\n",
        "import numpy as np\n",
        "from numpy import trapz\n",
        "from sklearn.model_selection import KFold\n",
        "import math\n",
        "import statistics"
      ],
      "metadata": {
        "id": "agR-YI8X5j8n"
      },
      "execution_count": 1,
      "outputs": []
    },
    {
      "cell_type": "code",
      "source": [
        "'''\n",
        "  # generates examples with equal class distribution\n",
        "'''\n",
        "def get_equal_class_distribution(data_x, data_y):\n",
        "  class_dist = [0] * 10\n",
        "  \n",
        "  examples = list()\n",
        "  train_X = list()\n",
        "  train_y = list()\n",
        "\n",
        "  for i in range(len(data_y)):\n",
        "    if(class_dist[data_y[i]] <= 5400):\n",
        "      class_dist[data_y[i]] += 1\n",
        "      examples.append(i)\n",
        "  \n",
        "  for i in range(len(examples)):\n",
        "    train_X.append(data_x[examples[i]])\n",
        "    train_y.append(data_y[examples[i]])\n",
        "  \n",
        "  train_X = np.array(train_X)\n",
        "  train_y = np.array(train_y)\n",
        "\n",
        "  print(f\"{data_x.shape, train_X.shape}\")\n",
        "  print(f\"{data_y.shape, train_y.shape}\")\n",
        "  \n",
        "  return train_X, train_y"
      ],
      "metadata": {
        "id": "K4rE50a5kuw5"
      },
      "execution_count": 2,
      "outputs": []
    },
    {
      "cell_type": "code",
      "source": [
        "'''\n",
        "  # loads mnist dataset\n",
        "  # flattens the dataset\n",
        "  # performs one hot encoding on target values\n",
        "'''\n",
        "def load_dataset():\n",
        "  (train_X, train_y), (test_X, test_y) = tf.keras.datasets.mnist.load_data()\n",
        "  \n",
        "  class_examples_train = [0, 0, 0, 0, 0, 0, 0, 0, 0, 0]\n",
        "  class_examples_test = [0, 0, 0, 0, 0, 0, 0, 0, 0, 0]\n",
        "\n",
        "  train_X, train_y = get_equal_class_distribution(train_X, train_y)\n",
        "\n",
        "  for example in train_y:\n",
        "    class_examples_train[example] += 1\n",
        "  for example in test_y:\n",
        "    class_examples_test[example] += 1\n",
        "\n",
        "  for i in range(9):\n",
        "    plt.subplot(331 + i)\n",
        "    plt.imshow(train_X[i], cmap='gray')\n",
        "  plt.show()\n",
        "\n",
        "  print(f'class distribution for training dataset - {class_examples_train}')\n",
        "  print(f'class distribution for testing dataset - {class_examples_test}')\n",
        "  \n",
        "  flat_train_X = train_X.reshape((train_X.shape[0], 28, 28, 1))\n",
        "  flat_test_X = test_X.reshape((test_X.shape[0], 28, 28, 1))\n",
        "  \n",
        "  ohe_train_y = pd.get_dummies(train_y)\n",
        "  ohe_test_y = pd.get_dummies(test_y)\n",
        "\n",
        "  return flat_train_X, flat_test_X, ohe_train_y.to_numpy(), ohe_test_y.to_numpy()"
      ],
      "metadata": {
        "id": "h-IHDLptHJrr"
      },
      "execution_count": 3,
      "outputs": []
    },
    {
      "cell_type": "code",
      "source": [
        "train_X, test_X, train_y, test_y = load_dataset()"
      ],
      "metadata": {
        "id": "k5zu_feeHvuU",
        "colab": {
          "base_uri": "https://localhost:8080/",
          "height": 372
        },
        "outputId": "b08e711e-6649-4f58-9a03-2219234f1502"
      },
      "execution_count": 4,
      "outputs": [
        {
          "output_type": "stream",
          "name": "stdout",
          "text": [
            "Downloading data from https://storage.googleapis.com/tensorflow/tf-keras-datasets/mnist.npz\n",
            "11490434/11490434 [==============================] - 0s 0us/step\n",
            "((60000, 28, 28), (54010, 28, 28))\n",
            "((60000,), (54010,))\n"
          ]
        },
        {
          "output_type": "display_data",
          "data": {
            "text/plain": [
              "<Figure size 432x288 with 9 Axes>"
            ],
            "image/png": "[encoded data removed]"
          },
          "metadata": {
            "needs_background": "light"
          }
        },
        {
          "output_type": "stream",
          "name": "stdout",
          "text": [
            "class distribution for training dataset - [5401, 5401, 5401, 5401, 5401, 5401, 5401, 5401, 5401, 5401]\n",
            "class distribution for testing dataset - [980, 1135, 1032, 1010, 982, 892, 958, 1028, 974, 1009]\n"
          ]
        }
      ]
    },
    {
      "cell_type": "code",
      "source": [
        "'''\n",
        "  # perfroms feature scaling on training and test sets\n",
        "'''\n",
        "def standardize(train, test):\n",
        "  train_norm = train.astype('float32')\n",
        "  test_norm = test.astype('float32')\n",
        "  \n",
        "  train_norm = train_norm / 255.0\n",
        "  test_norm = test_norm / 255.0\n",
        "\n",
        "  return train_norm, test_norm"
      ],
      "metadata": {
        "id": "gqCNkaaPHFA1"
      },
      "execution_count": 5,
      "outputs": []
    },
    {
      "cell_type": "code",
      "source": [
        "train_norm, test_norm = standardize(train_X, test_X)"
      ],
      "metadata": {
        "id": "-kqUQQgGwI1h"
      },
      "execution_count": 6,
      "outputs": []
    },
    {
      "cell_type": "code",
      "source": [
        "'''\n",
        "  # creates a 2d CNN\n",
        "'''\n",
        "def create_model():\n",
        "  model = tf.keras.Sequential()\n",
        "  model.add(tf.keras.layers.Conv2D(32, (5, 5), activation='relu', kernel_initializer='he_uniform', input_shape=(28, 28, 1)))\n",
        "  model.add(tf.keras.layers.MaxPool2D((2, 2)))\n",
        "\n",
        "  model.add(tf.keras.layers.Conv2D(32, (5, 5), activation='relu', kernel_initializer='he_uniform'))\n",
        "  model.add(tf.keras.layers.MaxPool2D((2, 2)))\n",
        "  \n",
        "  model.add(tf.keras.layers.Flatten())\n",
        "  \n",
        "  model.add(tf.keras.layers.Dense(128, activation='relu', kernel_initializer='he_uniform'))\n",
        "  model.add(tf.keras.layers.Dense(10, activation='softmax'))\n",
        "  \n",
        "  model.compile(optimizer=tf.keras.optimizers.SGD(learning_rate=0.01, momentum=0.9), loss='categorical_crossentropy', metrics=['accuracy'])\n",
        "\n",
        "  return model"
      ],
      "metadata": {
        "id": "35iTJqc9wStc"
      },
      "execution_count": 7,
      "outputs": []
    },
    {
      "cell_type": "code",
      "source": [
        "'''\n",
        "  # evaluates the model using k-fold method\n",
        "  # data_X - training examples\n",
        "  # data_y - testing examples\n",
        "  # n_folds - number of folds\n",
        "  # returns list of accuracy of models on validation data, list of fitted models, and list of sequential models\n",
        "'''\n",
        "def evaluate_model(data_X, data_y, n_folds = 5):\n",
        "  scores, history, models = list(), list(), list()\n",
        "  kfold = KFold(n_folds, shuffle = True, random_state = 1)\n",
        "  for cur_train_X, cur_test_X in kfold.split(data_X):\n",
        "    model = create_model()\n",
        "    models.append(model)\n",
        "\n",
        "    train_X, train_y, test_X, test_y = data_X[cur_train_X], data_y[cur_train_X], data_X[cur_test_X], data_y[cur_test_X]\n",
        "    history.append(model.fit(train_X, train_y, epochs = 10, batch_size = 32, validation_data = (test_X, test_y)))\n",
        "\n",
        "    _, acc = model.evaluate(test_X, test_y)\n",
        "    scores.append(acc)\n",
        "  return scores, history, models"
      ],
      "metadata": {
        "id": "X4EOadYOGKgg"
      },
      "execution_count": 8,
      "outputs": []
    },
    {
      "cell_type": "code",
      "source": [
        "scores, history, models = evaluate_model(train_norm, train_y)"
      ],
      "metadata": {
        "id": "BlrH6T_jLkHp",
        "colab": {
          "base_uri": "https://localhost:8080/"
        },
        "outputId": "2bdcac48-eaca-4247-ea21-4933923c02cc"
      },
      "execution_count": 9,
      "outputs": [
        {
          "output_type": "stream",
          "name": "stdout",
          "text": [
            "Epoch 1/10\n",
            "1351/1351 [==============================] - 56s 41ms/step - loss: 0.1594 - accuracy: 0.9501 - val_loss: 0.0710 - val_accuracy: 0.9784\n",
            "Epoch 2/10\n",
            "1351/1351 [==============================] - 44s 33ms/step - loss: 0.0548 - accuracy: 0.9834 - val_loss: 0.0589 - val_accuracy: 0.9818\n",
            "Epoch 3/10\n",
            "1351/1351 [==============================] - 48s 35ms/step - loss: 0.0358 - accuracy: 0.9886 - val_loss: 0.0483 - val_accuracy: 0.9856\n",
            "Epoch 4/10\n",
            "1351/1351 [==============================] - 44s 33ms/step - loss: 0.0272 - accuracy: 0.9912 - val_loss: 0.0480 - val_accuracy: 0.9862\n",
            "Epoch 5/10\n",
            "1351/1351 [==============================] - 45s 34ms/step - loss: 0.0193 - accuracy: 0.9936 - val_loss: 0.0388 - val_accuracy: 0.9876\n",
            "Epoch 6/10\n",
            "1351/1351 [==============================] - 44s 33ms/step - loss: 0.0146 - accuracy: 0.9952 - val_loss: 0.0472 - val_accuracy: 0.9861\n",
            "Epoch 7/10\n",
            "1351/1351 [==============================] - 44s 33ms/step - loss: 0.0107 - accuracy: 0.9966 - val_loss: 0.0368 - val_accuracy: 0.9900\n",
            "Epoch 8/10\n",
            "1351/1351 [==============================] - 46s 34ms/step - loss: 0.0084 - accuracy: 0.9973 - val_loss: 0.0476 - val_accuracy: 0.9877\n",
            "Epoch 9/10\n",
            "1351/1351 [==============================] - 44s 33ms/step - loss: 0.0058 - accuracy: 0.9982 - val_loss: 0.0407 - val_accuracy: 0.9899\n",
            "Epoch 10/10\n",
            "1351/1351 [==============================] - 44s 33ms/step - loss: 0.0067 - accuracy: 0.9979 - val_loss: 0.0416 - val_accuracy: 0.9888\n",
            "338/338 [==============================] - 4s 12ms/step - loss: 0.0416 - accuracy: 0.9888\n",
            "Epoch 1/10\n",
            "1351/1351 [==============================] - 44s 33ms/step - loss: 0.1626 - accuracy: 0.9485 - val_loss: 0.0727 - val_accuracy: 0.9777\n",
            "Epoch 2/10\n",
            "1351/1351 [==============================] - 44s 32ms/step - loss: 0.0515 - accuracy: 0.9840 - val_loss: 0.0622 - val_accuracy: 0.9809\n",
            "Epoch 3/10\n",
            "1351/1351 [==============================] - 45s 33ms/step - loss: 0.0345 - accuracy: 0.9891 - val_loss: 0.0469 - val_accuracy: 0.9863\n",
            "Epoch 4/10\n",
            "1351/1351 [==============================] - 44s 33ms/step - loss: 0.0267 - accuracy: 0.9914 - val_loss: 0.0443 - val_accuracy: 0.9873\n",
            "Epoch 5/10\n",
            "1351/1351 [==============================] - 44s 33ms/step - loss: 0.0180 - accuracy: 0.9941 - val_loss: 0.0411 - val_accuracy: 0.9886\n",
            "Epoch 6/10\n",
            "1351/1351 [==============================] - 46s 34ms/step - loss: 0.0151 - accuracy: 0.9953 - val_loss: 0.0396 - val_accuracy: 0.9899\n",
            "Epoch 7/10\n",
            "1351/1351 [==============================] - 45s 33ms/step - loss: 0.0100 - accuracy: 0.9970 - val_loss: 0.0426 - val_accuracy: 0.9897\n",
            "Epoch 8/10\n",
            "1351/1351 [==============================] - 47s 34ms/step - loss: 0.0085 - accuracy: 0.9972 - val_loss: 0.0450 - val_accuracy: 0.9886\n",
            "Epoch 9/10\n",
            "1351/1351 [==============================] - 45s 33ms/step - loss: 0.0067 - accuracy: 0.9976 - val_loss: 0.0424 - val_accuracy: 0.9899\n",
            "Epoch 10/10\n",
            "1351/1351 [==============================] - 45s 34ms/step - loss: 0.0051 - accuracy: 0.9985 - val_loss: 0.0443 - val_accuracy: 0.9900\n",
            "338/338 [==============================] - 3s 10ms/step - loss: 0.0443 - accuracy: 0.9900\n",
            "Epoch 1/10\n",
            "1351/1351 [==============================] - 44s 33ms/step - loss: 0.1540 - accuracy: 0.9519 - val_loss: 0.0588 - val_accuracy: 0.9824\n",
            "Epoch 2/10\n",
            "1351/1351 [==============================] - 46s 34ms/step - loss: 0.0538 - accuracy: 0.9830 - val_loss: 0.0522 - val_accuracy: 0.9832\n",
            "Epoch 3/10\n",
            "1351/1351 [==============================] - 44s 33ms/step - loss: 0.0340 - accuracy: 0.9893 - val_loss: 0.0466 - val_accuracy: 0.9855\n",
            "Epoch 4/10\n",
            "1351/1351 [==============================] - 44s 33ms/step - loss: 0.0247 - accuracy: 0.9921 - val_loss: 0.0481 - val_accuracy: 0.9853\n",
            "Epoch 5/10\n",
            "1351/1351 [==============================] - 46s 34ms/step - loss: 0.0202 - accuracy: 0.9932 - val_loss: 0.0403 - val_accuracy: 0.9884\n",
            "Epoch 6/10\n",
            "1351/1351 [==============================] - 45s 33ms/step - loss: 0.0136 - accuracy: 0.9956 - val_loss: 0.0435 - val_accuracy: 0.9876\n",
            "Epoch 7/10\n",
            "1351/1351 [==============================] - 46s 34ms/step - loss: 0.0102 - accuracy: 0.9966 - val_loss: 0.0423 - val_accuracy: 0.9883\n",
            "Epoch 8/10\n",
            "1351/1351 [==============================] - 44s 33ms/step - loss: 0.0093 - accuracy: 0.9969 - val_loss: 0.0388 - val_accuracy: 0.9895\n",
            "Epoch 9/10\n",
            "1351/1351 [==============================] - 45s 33ms/step - loss: 0.0066 - accuracy: 0.9978 - val_loss: 0.0394 - val_accuracy: 0.9905\n",
            "Epoch 10/10\n",
            "1351/1351 [==============================] - 46s 34ms/step - loss: 0.0053 - accuracy: 0.9983 - val_loss: 0.0481 - val_accuracy: 0.9868\n",
            "338/338 [==============================] - 3s 10ms/step - loss: 0.0481 - accuracy: 0.9868\n",
            "Epoch 1/10\n",
            "1351/1351 [==============================] - 46s 34ms/step - loss: 0.1573 - accuracy: 0.9509 - val_loss: 0.0684 - val_accuracy: 0.9789\n",
            "Epoch 2/10\n",
            "1351/1351 [==============================] - 44s 33ms/step - loss: 0.0527 - accuracy: 0.9844 - val_loss: 0.0579 - val_accuracy: 0.9820\n",
            "Epoch 3/10\n",
            "1351/1351 [==============================] - 44s 33ms/step - loss: 0.0369 - accuracy: 0.9882 - val_loss: 0.0557 - val_accuracy: 0.9824\n",
            "Epoch 4/10\n",
            "1351/1351 [==============================] - 46s 34ms/step - loss: 0.0272 - accuracy: 0.9913 - val_loss: 0.0520 - val_accuracy: 0.9848\n",
            "Epoch 5/10\n",
            "1351/1351 [==============================] - 44s 33ms/step - loss: 0.0204 - accuracy: 0.9935 - val_loss: 0.0397 - val_accuracy: 0.9882\n",
            "Epoch 6/10\n",
            "1351/1351 [==============================] - 45s 33ms/step - loss: 0.0138 - accuracy: 0.9954 - val_loss: 0.0440 - val_accuracy: 0.9885\n",
            "Epoch 7/10\n",
            "1351/1351 [==============================] - 46s 34ms/step - loss: 0.0120 - accuracy: 0.9960 - val_loss: 0.0434 - val_accuracy: 0.9883\n",
            "Epoch 8/10\n",
            "1351/1351 [==============================] - 44s 33ms/step - loss: 0.0084 - accuracy: 0.9972 - val_loss: 0.0463 - val_accuracy: 0.9888\n",
            "Epoch 9/10\n",
            "1351/1351 [==============================] - 46s 34ms/step - loss: 0.0061 - accuracy: 0.9983 - val_loss: 0.0426 - val_accuracy: 0.9893\n",
            "Epoch 10/10\n",
            "1351/1351 [==============================] - 44s 33ms/step - loss: 0.0043 - accuracy: 0.9987 - val_loss: 0.0487 - val_accuracy: 0.9883\n",
            "338/338 [==============================] - 3s 9ms/step - loss: 0.0487 - accuracy: 0.9883\n",
            "Epoch 1/10\n",
            "1351/1351 [==============================] - 45s 33ms/step - loss: 0.1675 - accuracy: 0.9483 - val_loss: 0.0657 - val_accuracy: 0.9809\n",
            "Epoch 2/10\n",
            "1351/1351 [==============================] - 46s 34ms/step - loss: 0.0559 - accuracy: 0.9828 - val_loss: 0.0650 - val_accuracy: 0.9802\n",
            "Epoch 3/10\n",
            "1351/1351 [==============================] - 44s 33ms/step - loss: 0.0393 - accuracy: 0.9878 - val_loss: 0.0482 - val_accuracy: 0.9845\n",
            "Epoch 4/10\n",
            "1351/1351 [==============================] - 45s 34ms/step - loss: 0.0282 - accuracy: 0.9913 - val_loss: 0.0463 - val_accuracy: 0.9861\n",
            "Epoch 5/10\n",
            "1351/1351 [==============================] - 44s 33ms/step - loss: 0.0216 - accuracy: 0.9932 - val_loss: 0.0449 - val_accuracy: 0.9860\n",
            "Epoch 6/10\n",
            "1351/1351 [==============================] - 44s 33ms/step - loss: 0.0168 - accuracy: 0.9946 - val_loss: 0.0436 - val_accuracy: 0.9870\n",
            "Epoch 7/10\n",
            "1351/1351 [==============================] - 45s 34ms/step - loss: 0.0131 - accuracy: 0.9959 - val_loss: 0.0435 - val_accuracy: 0.9873\n",
            "Epoch 8/10\n",
            "1351/1351 [==============================] - 44s 33ms/step - loss: 0.0090 - accuracy: 0.9973 - val_loss: 0.0392 - val_accuracy: 0.9886\n",
            "Epoch 9/10\n",
            "1351/1351 [==============================] - 44s 33ms/step - loss: 0.0086 - accuracy: 0.9972 - val_loss: 0.0511 - val_accuracy: 0.9869\n",
            "Epoch 10/10\n",
            "1351/1351 [==============================] - 45s 34ms/step - loss: 0.0074 - accuracy: 0.9973 - val_loss: 0.0422 - val_accuracy: 0.9888\n",
            "338/338 [==============================] - 3s 10ms/step - loss: 0.0422 - accuracy: 0.9888\n"
          ]
        }
      ]
    },
    {
      "cell_type": "code",
      "source": [
        "# scores for the 5 trained models\n",
        "scores"
      ],
      "metadata": {
        "id": "41HaLoxmM1iz",
        "colab": {
          "base_uri": "https://localhost:8080/"
        },
        "outputId": "04996e78-2330-4032-8132-d8e108ba1708"
      },
      "execution_count": 10,
      "outputs": [
        {
          "output_type": "execute_result",
          "data": {
            "text/plain": [
              "[0.9887983798980713,\n",
              " 0.9900018572807312,\n",
              " 0.9867616891860962,\n",
              " 0.9883354902267456,\n",
              " 0.9887983798980713]"
            ]
          },
          "metadata": {},
          "execution_count": 10
        }
      ]
    },
    {
      "cell_type": "code",
      "source": [
        "'''\n",
        "  # plots the loss and accuracy for training and validation sets\n",
        "'''\n",
        "def plot_learning_curves(history):\n",
        "  fig, (ax1, ax2) = plt.subplots(1, 2)\n",
        "  for model in history:\n",
        "    ax1.set_title('Cross Entropy Loss')\n",
        "    ax1.plot(model.history['loss'], color = 'blue', label = 'train')\n",
        "    ax1.plot(model.history['val_loss'], color = 'red', label = 'validation')\n",
        "\n",
        "    ax2.set_title('Accuracy')\n",
        "    ax2.plot(model.history['accuracy'], color = 'blue', label = 'train')\n",
        "    ax2.plot(model.history['val_accuracy'], color = 'red', label = 'validation')\n",
        "  plt.show()"
      ],
      "metadata": {
        "id": "h16JCBV20Ktg"
      },
      "execution_count": 11,
      "outputs": []
    },
    {
      "cell_type": "code",
      "source": [
        "plot_learning_curves(history)"
      ],
      "metadata": {
        "id": "EVJ4PaUQ6XBF",
        "colab": {
          "base_uri": "https://localhost:8080/",
          "height": 281
        },
        "outputId": "65182010-dfa1-49f0-9511-e64e27462bc5"
      },
      "execution_count": 12,
      "outputs": [
        {
          "output_type": "display_data",
          "data": {
            "text/plain": [
              "<Figure size 432x288 with 2 Axes>"
            ],
            "image/png": "[encoded data removed]"
          },
          "metadata": {
            "needs_background": "light"
          }
        }
      ]
    },
    {
      "cell_type": "code",
      "source": [
        "prob_vec_train = models[3].predict(train_norm)\n",
        "prob_vec_test = models[3].predict(test_norm)"
      ],
      "metadata": {
        "id": "PX7LuTR2813Q",
        "colab": {
          "base_uri": "https://localhost:8080/"
        },
        "outputId": "e98536b6-880d-4a4f-8e84-f4b0a4f5e09d"
      },
      "execution_count": 13,
      "outputs": [
        {
          "output_type": "stream",
          "name": "stdout",
          "text": [
            "1688/1688 [==============================] - 15s 9ms/step\n",
            "313/313 [==============================] - 3s 9ms/step\n"
          ]
        }
      ]
    },
    {
      "cell_type": "code",
      "source": [
        "prob_vec_train[0]"
      ],
      "metadata": {
        "id": "7WhBUeJ9-pr3",
        "colab": {
          "base_uri": "https://localhost:8080/"
        },
        "outputId": "40d6f512-771f-47fa-f28a-257c0a8f790c"
      },
      "execution_count": 14,
      "outputs": [
        {
          "output_type": "execute_result",
          "data": {
            "text/plain": [
              "array([2.2886854e-16, 2.7596842e-14, 8.0775204e-18, 6.6162081e-04,\n",
              "       7.0266811e-19, 9.9933833e-01, 2.9981222e-15, 1.2249014e-14,\n",
              "       2.7206473e-11, 1.1459582e-09], dtype=float32)"
            ]
          },
          "metadata": {},
          "execution_count": 14
        }
      ]
    },
    {
      "cell_type": "code",
      "source": [
        "prob_vec_test[0]"
      ],
      "metadata": {
        "id": "rbkH2I_vHqx4",
        "colab": {
          "base_uri": "https://localhost:8080/"
        },
        "outputId": "7b3c7ce3-ef5d-4430-e053-8eb584bc103e"
      },
      "execution_count": 15,
      "outputs": [
        {
          "output_type": "execute_result",
          "data": {
            "text/plain": [
              "array([1.6809955e-15, 1.0165573e-12, 3.0183304e-11, 5.1053019e-11,\n",
              "       1.0412826e-18, 9.3484477e-15, 1.4918011e-19, 9.9999994e-01,\n",
              "       1.0111701e-15, 2.3351539e-11], dtype=float32)"
            ]
          },
          "metadata": {},
          "execution_count": 15
        }
      ]
    },
    {
      "cell_type": "code",
      "source": [
        "'''\n",
        "  # computes entropy for probability vectors\n",
        "  # prob_vec - probability vector\n",
        "'''\n",
        "def cal_entropy(prob_vec):\n",
        "  entropy = 0\n",
        "  for prob in prob_vec:\n",
        "    entropy = entropy + prob * math.log(prob, 10)\n",
        "  return -1 * entropy"
      ],
      "metadata": {
        "id": "DINYNLOdInK7"
      },
      "execution_count": 16,
      "outputs": []
    },
    {
      "cell_type": "code",
      "source": [
        "'''\n",
        "  # computes standard deviation for probability vector\n",
        "'''\n",
        "def cal_std(prob_vec):\n",
        "  mean = statistics.mean(prob_vec)\n",
        "  variance = 0\n",
        "\n",
        "  for prob in prob_vec:\n",
        "    variance += (prob - mean) ** 2\n",
        "  variance /= len(prob_vec)\n",
        "\n",
        "  return math.sqrt(variance)"
      ],
      "metadata": {
        "id": "DjODYDhwQqPe"
      },
      "execution_count": 23,
      "outputs": []
    },
    {
      "cell_type": "code",
      "source": [
        "# compute average entropy and standard deviation for probability vector of training examples\n",
        "# stores the entropy and standard deviation for each probability vector\n",
        "\n",
        "entropy_train = list()\n",
        "std_train = list()\n",
        "\n",
        "sum_entropy = 0\n",
        "sum_std = 0\n",
        "\n",
        "for prob_vec in prob_vec_train:\n",
        "  cur_entropy = cal_entropy(prob_vec)\n",
        "  cur_std = cal_std(prob_vec)\n",
        "\n",
        "  entropy_train.append(cur_entropy)\n",
        "  std_train.append(cur_std)\n",
        "\n",
        "  sum_entropy = sum_entropy + cur_entropy\n",
        "  sum_std = sum_std + cur_std\n",
        "\n",
        "avg_train_entropy = sum_entropy / len(prob_vec_train)\n",
        "avg_train_std = sum_std / len(prob_vec_train)\n",
        "\n",
        "print(f\"Avg train entropy - {avg_train_entropy}, Avg train std - {avg_train_std}\")"
      ],
      "metadata": {
        "id": "aVpo1ZBdJr3R",
        "colab": {
          "base_uri": "https://localhost:8080/"
        },
        "outputId": "a373b0c6-9c49-48da-8f4d-1f37b547d9e3"
      },
      "execution_count": 24,
      "outputs": [
        {
          "output_type": "stream",
          "name": "stdout",
          "text": [
            "Avg train entropy - 0.002924969237329546, Avg train std - 0.29938625547437236\n"
          ]
        }
      ]
    },
    {
      "cell_type": "code",
      "source": [
        "# compute average entropy and standard deviation for probability vector of testing examples\n",
        "# stores the entropy and standard deviation for each probability vector\n",
        "\n",
        "entropy_test = list()\n",
        "std_test = list()\n",
        "\n",
        "sum_entropy = 0\n",
        "sum_std = 0\n",
        "\n",
        "for prob_vec in prob_vec_test:\n",
        "  cur_entropy = cal_entropy(prob_vec)\n",
        "  cur_std = cal_std(prob_vec)\n",
        "\n",
        "  entropy_test.append(cur_entropy)\n",
        "  std_test.append(cur_std)\n",
        "\n",
        "  sum_entropy = sum_entropy + cur_entropy\n",
        "  sum_std = sum_std + cur_std\n",
        "\n",
        "avg_test_entropy = sum_entropy / len(prob_vec_test)\n",
        "avg_test_std = sum_std / len(prob_vec_test)\n",
        "\n",
        "print(f\"Avg test entropy - {avg_test_entropy}, Avg test std - {avg_test_std}\")"
      ],
      "metadata": {
        "colab": {
          "base_uri": "https://localhost:8080/"
        },
        "id": "tVy5zK-d92Ad",
        "outputId": "61135c59-8af6-4e6e-9033-e810e49a238e"
      },
      "execution_count": 25,
      "outputs": [
        {
          "output_type": "stream",
          "name": "stdout",
          "text": [
            "Avg test entropy - 0.0047683984399023265, Avg test std - 0.29887319948411706\n"
          ]
        }
      ]
    },
    {
      "cell_type": "code",
      "source": [
        "'''\n",
        "  # calculates AUC score for attack model using trapezoidal method\n",
        "  # train_vec - entropy for probability vectors of training examples\n",
        "  # test_vec - entropy for probability vectors of testing examples\n",
        "  # pos_count - number of examples which are members of training set\n",
        "  # neg_count - number of examples which are non-members of training set\n",
        "  # inc_threshold - controls the number of thresholds for which AUC is computed\n",
        "'''\n",
        "def cal_auc(train_vec, test_vec, pos_count, neg_count, inc_threshold = 0.1):\n",
        "  threshold = 0\n",
        "  tpr_list, fpr_list = list(), list()\n",
        "  tuple_tpr, tuple_fpr = list(), list()\n",
        "  points = list()\n",
        "  auc = 0\n",
        "\n",
        "  while(threshold <= 1):\n",
        "    tp_count = 0\n",
        "    fp_count = 0\n",
        "\n",
        "    for val in train_vec:\n",
        "      if(val <= threshold):\n",
        "        tp_count += 1\n",
        "      \n",
        "    for val in test_vec:\n",
        "      if(val <= threshold):\n",
        "        fp_count += 1\n",
        "\n",
        "    tpr = tp_count / pos_count\n",
        "    fpr = fp_count / neg_count\n",
        "    \n",
        "    tpr_list.append(tpr)\n",
        "    fpr_list.append(fpr)\n",
        "\n",
        "    threshold += inc_threshold\n",
        "\n",
        "  for i in range(len(tpr_list)):\n",
        "    points.append([fpr_list[i], tpr_list[i]])\n",
        "\n",
        "  points.sort()\n",
        "\n",
        "  for i in range(len(points) - 1):\n",
        "    tuple_tpr.append([points[i][1], points[i + 1][1]])\n",
        "    tuple_fpr.append([points[i][0], points[i + 1][0]])\n",
        "\n",
        "  auc = sum(np.trapz(tuple_tpr, tuple_fpr))\n",
        "  return auc"
      ],
      "metadata": {
        "id": "Qt6xV8AxL4ls"
      },
      "execution_count": 1,
      "outputs": []
    },
    {
      "cell_type": "code",
      "source": [
        "cal_auc(entropy_train, entropy_test, len(entropy_train), len(entropy_test), 0.00001)"
      ],
      "metadata": {
        "id": "G0zGiFGIWc8h"
      },
      "execution_count": null,
      "outputs": []
    },
    {
      "cell_type": "code",
      "source": [
        "# calculate auc score using entropy as the parameter\n",
        "cal_auc(std_train, std_test, len(std_train), len(std_test), 0.00001)"
      ],
      "metadata": {
        "id": "EYjp_iaQdZTy",
        "colab": {
          "base_uri": "https://localhost:8080/"
        },
        "outputId": "be3667c0-162a-483c-c7d2-1094c0dee9ce"
      },
      "execution_count": 26,
      "outputs": [
        {
          "output_type": "execute_result",
          "data": {
            "text/plain": [
              "0.5008830244399185"
            ]
          },
          "metadata": {},
          "execution_count": 26
        }
      ]
    },
    {
      "cell_type": "code",
      "source": [],
      "metadata": {
        "id": "E5RS7Hf-5ydp"
      },
      "execution_count": null,
      "outputs": []
    }
  ]
}