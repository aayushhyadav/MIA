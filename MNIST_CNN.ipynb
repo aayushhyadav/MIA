{
  "nbformat": 4,
  "nbformat_minor": 0,
  "metadata": {
    "colab": {
      "provenance": [],
      "collapsed_sections": [],
      "authorship_tag": "ABX9TyP7E8RcTswyZzQXLevYXzbo",
      "include_colab_link": true
    },
    "kernelspec": {
      "name": "python3",
      "display_name": "Python 3"
    },
    "language_info": {
      "name": "python"
    }
  },
  "cells": [
    {
      "cell_type": "markdown",
      "metadata": {
        "id": "view-in-github",
        "colab_type": "text"
      },
      "source": [
        "<a href=\"https://colab.research.google.com/github/aayushhyadav/MIA/blob/feature%2Fmnist/MNIST_CNN.ipynb\" target=\"_parent\"><img src=\"https://colab.research.google.com/assets/colab-badge.svg\" alt=\"Open In Colab\"/></a>"
      ]
    },
    {
      "cell_type": "code",
      "execution_count": null,
      "metadata": {
        "id": "GYuxh0Id16qi"
      },
      "outputs": [],
      "source": [
        "!pip install tensorflow"
      ]
    },
    {
      "cell_type": "code",
      "source": [
        "import tensorflow as tf\n",
        "from matplotlib import pyplot as plt\n",
        "import pandas as pd\n",
        "import numpy as np\n",
        "from numpy import trapz\n",
        "from sklearn.model_selection import KFold\n",
        "import math\n",
        "import statistics"
      ],
      "metadata": {
        "id": "agR-YI8X5j8n"
      },
      "execution_count": 1,
      "outputs": []
    },
    {
      "cell_type": "code",
      "source": [
        "'''\n",
        "  # generates examples with equal class distribution\n",
        "'''\n",
        "def get_equal_class_distribution(data_x, data_y):\n",
        "  class_dist = [0] * 10\n",
        "  \n",
        "  examples = list()\n",
        "  train_X = list()\n",
        "  train_y = list()\n",
        "\n",
        "  for i in range(len(data_y)):\n",
        "    if(class_dist[data_y[i]] <= 5400):\n",
        "      class_dist[data_y[i]] += 1\n",
        "      examples.append(i)\n",
        "  \n",
        "  for i in range(len(examples)):\n",
        "    train_X.append(data_x[examples[i]])\n",
        "    train_y.append(data_y[examples[i]])\n",
        "  \n",
        "  train_X = np.array(train_X)\n",
        "  train_y = np.array(train_y)\n",
        "\n",
        "  print(f\"{data_x.shape, train_X.shape}\")\n",
        "  print(f\"{data_y.shape, train_y.shape}\")\n",
        "  \n",
        "  return train_X, train_y"
      ],
      "metadata": {
        "id": "K4rE50a5kuw5"
      },
      "execution_count": 5,
      "outputs": []
    },
    {
      "cell_type": "code",
      "source": [
        "def get_unequal_class_distribution(data_x, data_y, num_1, num_3, num_5, num_7, num_9):\n",
        "  class_dist = [0] * 10\n",
        "  \n",
        "  examples = list()\n",
        "  train_X = list()\n",
        "  train_y = list()\n",
        "\n",
        "  for i in range(len(data_y)):\n",
        "    if(data_y[i] == 1 and class_dist[data_y[i]] <= num_1):\n",
        "      class_dist[data_y[i]] += 1\n",
        "      examples.append(i)\n",
        "    elif(data_y[i] == 3 and class_dist[data_y[i]] <= num_3):\n",
        "      class_dist[data_y[i]] += 1\n",
        "      examples.append(i)\n",
        "    elif(data_y[i] == 5 and class_dist[data_y[i]] <= num_5):\n",
        "      class_dist[data_y[i]] += 1\n",
        "      examples.append(i)\n",
        "    elif(data_y[i] == 7 and class_dist[data_y[i]] <= num_7):\n",
        "      class_dist[data_y[i]] += 1\n",
        "      examples.append(i)\n",
        "    elif(data_y[i] == 9 and class_dist[data_y[i]] <= num_9):\n",
        "      class_dist[data_y[i]] += 1\n",
        "      examples.append(i)\n",
        "    elif(data_y[i] == 0 or data_y[i] == 2 or data_y[i] == 4 or data_y[i] == 6 or data_y[i] == 8):\n",
        "      class_dist[data_y[i]] += 1\n",
        "      examples.append(i)\n",
        "    \n",
        "  for i in range(len(examples)):\n",
        "    train_X.append(data_x[examples[i]])\n",
        "    train_y.append(data_y[examples[i]])\n",
        "  \n",
        "  train_X = np.array(train_X)\n",
        "  train_y = np.array(train_y)\n",
        "\n",
        "  print(f\"{data_x.shape, train_X.shape}\")\n",
        "  print(f\"{data_y.shape, train_y.shape}\")\n",
        "  \n",
        "  return train_X, train_y"
      ],
      "metadata": {
        "id": "lY7jFqVuxGr0"
      },
      "execution_count": 11,
      "outputs": []
    },
    {
      "cell_type": "code",
      "source": [
        "'''\n",
        "  # loads mnist dataset\n",
        "  # flattens the dataset\n",
        "  # performs one hot encoding on target values\n",
        "'''\n",
        "def load_dataset():\n",
        "  (train_X, train_y), (test_X, test_y) = tf.keras.datasets.mnist.load_data()\n",
        "\n",
        "  class_examples_train = [0] * 10\n",
        "  class_examples_test = [0] * 10\n",
        "\n",
        "  # train_X, train_y = get_equal_class_distribution(train_X, train_y)\n",
        "  train_X, train_y = get_unequal_class_distribution(train_X, train_y, 2000, 1000, 500, 6000, 200)\n",
        "\n",
        "  for example in train_y:\n",
        "    class_examples_train[example] += 1\n",
        "  for example in test_y:\n",
        "    class_examples_test[example] += 1\n",
        "\n",
        "  for i in range(9):\n",
        "    plt.subplot(331 + i)\n",
        "    plt.imshow(train_X[i], cmap='gray')\n",
        "  plt.show()\n",
        "\n",
        "  print(f'class distribution for training dataset - {class_examples_train}')\n",
        "  print(f'class distribution for testing dataset - {class_examples_test}')\n",
        "  \n",
        "  flat_train_X = train_X.reshape((train_X.shape[0], 28, 28, 1))\n",
        "  flat_test_X = test_X.reshape((test_X.shape[0], 28, 28, 1))\n",
        "  \n",
        "  ohe_train_y = pd.get_dummies(train_y)\n",
        "  ohe_test_y = pd.get_dummies(test_y)\n",
        "\n",
        "  return flat_train_X, flat_test_X, ohe_train_y.to_numpy(), ohe_test_y.to_numpy()"
      ],
      "metadata": {
        "id": "h-IHDLptHJrr"
      },
      "execution_count": 12,
      "outputs": []
    },
    {
      "cell_type": "code",
      "source": [
        "train_X, test_X, train_y, test_y = load_dataset()"
      ],
      "metadata": {
        "id": "k5zu_feeHvuU",
        "colab": {
          "base_uri": "https://localhost:8080/",
          "height": 337
        },
        "outputId": "0037c5f9-2ec1-48fd-ffb9-8c2838546241"
      },
      "execution_count": 13,
      "outputs": [
        {
          "output_type": "stream",
          "name": "stdout",
          "text": [
            "((60000, 28, 28), (39197, 28, 28))\n",
            "((60000,), (39197,))\n"
          ]
        },
        {
          "output_type": "display_data",
          "data": {
            "text/plain": [
              "<Figure size 432x288 with 9 Axes>"
            ],
            "image/png": "[encoded data removed]"
          },
          "metadata": {
            "needs_background": "light"
          }
        },
        {
          "output_type": "stream",
          "name": "stdout",
          "text": [
            "class distribution for training dataset - [5923, 2001, 5958, 1001, 5842, 501, 5918, 6001, 5851, 201]\n",
            "class distribution for testing dataset - [980, 1135, 1032, 1010, 982, 892, 958, 1028, 974, 1009]\n"
          ]
        }
      ]
    },
    {
      "cell_type": "code",
      "source": [
        "'''\n",
        "  # perfroms feature scaling on training and test sets\n",
        "'''\n",
        "def standardize(train, test):\n",
        "  train_norm = train.astype('float32')\n",
        "  test_norm = test.astype('float32')\n",
        "  \n",
        "  train_norm = train_norm / 255.0\n",
        "  test_norm = test_norm / 255.0\n",
        "\n",
        "  return train_norm, test_norm"
      ],
      "metadata": {
        "id": "gqCNkaaPHFA1"
      },
      "execution_count": 14,
      "outputs": []
    },
    {
      "cell_type": "code",
      "source": [
        "train_norm, test_norm = standardize(train_X, test_X)"
      ],
      "metadata": {
        "id": "-kqUQQgGwI1h"
      },
      "execution_count": 15,
      "outputs": []
    },
    {
      "cell_type": "code",
      "source": [
        "'''\n",
        "  # creates a 2d CNN\n",
        "'''\n",
        "def create_model():\n",
        "  model = tf.keras.Sequential()\n",
        "  model.add(tf.keras.layers.Conv2D(32, (5, 5), activation='relu', kernel_initializer='he_uniform', input_shape=(28, 28, 1)))\n",
        "  model.add(tf.keras.layers.MaxPool2D((2, 2)))\n",
        "\n",
        "  model.add(tf.keras.layers.Conv2D(32, (5, 5), activation='relu', kernel_initializer='he_uniform'))\n",
        "  model.add(tf.keras.layers.MaxPool2D((2, 2)))\n",
        "  \n",
        "  model.add(tf.keras.layers.Flatten())\n",
        "  \n",
        "  model.add(tf.keras.layers.Dense(128, activation='relu', kernel_initializer='he_uniform'))\n",
        "  model.add(tf.keras.layers.Dense(10, activation='softmax'))\n",
        "  \n",
        "  model.compile(optimizer=tf.keras.optimizers.SGD(learning_rate=0.01, momentum=0.9), loss='categorical_crossentropy', metrics=['accuracy'])\n",
        "\n",
        "  return model"
      ],
      "metadata": {
        "id": "35iTJqc9wStc"
      },
      "execution_count": 16,
      "outputs": []
    },
    {
      "cell_type": "code",
      "source": [
        "'''\n",
        "  # evaluates the model using k-fold method\n",
        "  # data_X - training examples\n",
        "  # data_y - testing examples\n",
        "  # n_folds - number of folds\n",
        "  # returns list of accuracy of models on validation data, list of fitted models, and list of sequential models\n",
        "'''\n",
        "def evaluate_model(data_X, data_y, n_folds = 5):\n",
        "  scores, history, models = list(), list(), list()\n",
        "  kfold = KFold(n_folds, shuffle = True, random_state = 1)\n",
        "  for cur_train_X, cur_test_X in kfold.split(data_X):\n",
        "    model = create_model()\n",
        "    models.append(model)\n",
        "\n",
        "    train_X, train_y, test_X, test_y = data_X[cur_train_X], data_y[cur_train_X], data_X[cur_test_X], data_y[cur_test_X]\n",
        "    history.append(model.fit(train_X, train_y, epochs = 10, batch_size = 32, validation_data = (test_X, test_y)))\n",
        "\n",
        "    _, acc = model.evaluate(test_X, test_y)\n",
        "    scores.append(acc)\n",
        "  return scores, history, models"
      ],
      "metadata": {
        "id": "X4EOadYOGKgg"
      },
      "execution_count": 17,
      "outputs": []
    },
    {
      "cell_type": "code",
      "source": [
        "scores, history, models = evaluate_model(train_norm, train_y)"
      ],
      "metadata": {
        "id": "BlrH6T_jLkHp",
        "colab": {
          "base_uri": "https://localhost:8080/"
        },
        "outputId": "54f6a8dd-121b-4949-b7f7-bd5617e5babd"
      },
      "execution_count": 18,
      "outputs": [
        {
          "output_type": "stream",
          "name": "stdout",
          "text": [
            "Epoch 1/10\n",
            "980/980 [==============================] - 35s 35ms/step - loss: 0.1670 - accuracy: 0.9497 - val_loss: 0.0756 - val_accuracy: 0.9791\n",
            "Epoch 2/10\n",
            "980/980 [==============================] - 32s 33ms/step - loss: 0.0538 - accuracy: 0.9834 - val_loss: 0.0515 - val_accuracy: 0.9858\n",
            "Epoch 3/10\n",
            "980/980 [==============================] - 33s 33ms/step - loss: 0.0349 - accuracy: 0.9891 - val_loss: 0.0543 - val_accuracy: 0.9820\n",
            "Epoch 4/10\n",
            "980/980 [==============================] - 34s 34ms/step - loss: 0.0253 - accuracy: 0.9927 - val_loss: 0.0424 - val_accuracy: 0.9871\n",
            "Epoch 5/10\n",
            "980/980 [==============================] - 33s 34ms/step - loss: 0.0174 - accuracy: 0.9948 - val_loss: 0.0357 - val_accuracy: 0.9911\n",
            "Epoch 6/10\n",
            "980/980 [==============================] - 33s 34ms/step - loss: 0.0139 - accuracy: 0.9958 - val_loss: 0.0401 - val_accuracy: 0.9890\n",
            "Epoch 7/10\n",
            "980/980 [==============================] - 33s 34ms/step - loss: 0.0110 - accuracy: 0.9965 - val_loss: 0.0431 - val_accuracy: 0.9885\n",
            "Epoch 8/10\n",
            "980/980 [==============================] - 33s 34ms/step - loss: 0.0093 - accuracy: 0.9974 - val_loss: 0.0404 - val_accuracy: 0.9889\n",
            "Epoch 9/10\n",
            "980/980 [==============================] - 34s 35ms/step - loss: 0.0047 - accuracy: 0.9990 - val_loss: 0.0376 - val_accuracy: 0.9909\n",
            "Epoch 10/10\n",
            "980/980 [==============================] - 33s 34ms/step - loss: 0.0039 - accuracy: 0.9988 - val_loss: 0.0416 - val_accuracy: 0.9894\n",
            "245/245 [==============================] - 2s 10ms/step - loss: 0.0416 - accuracy: 0.9894\n",
            "Epoch 1/10\n",
            "980/980 [==============================] - 33s 33ms/step - loss: 0.1468 - accuracy: 0.9559 - val_loss: 0.0640 - val_accuracy: 0.9793\n",
            "Epoch 2/10\n",
            "980/980 [==============================] - 32s 33ms/step - loss: 0.0493 - accuracy: 0.9841 - val_loss: 0.0449 - val_accuracy: 0.9862\n",
            "Epoch 3/10\n",
            "980/980 [==============================] - 32s 33ms/step - loss: 0.0302 - accuracy: 0.9911 - val_loss: 0.0378 - val_accuracy: 0.9892\n",
            "Epoch 4/10\n",
            "980/980 [==============================] - 34s 34ms/step - loss: 0.0215 - accuracy: 0.9933 - val_loss: 0.0326 - val_accuracy: 0.9911\n",
            "Epoch 5/10\n",
            "980/980 [==============================] - 33s 33ms/step - loss: 0.0156 - accuracy: 0.9950 - val_loss: 0.0384 - val_accuracy: 0.9901\n",
            "Epoch 6/10\n",
            "980/980 [==============================] - 33s 33ms/step - loss: 0.0117 - accuracy: 0.9962 - val_loss: 0.0324 - val_accuracy: 0.9912\n",
            "Epoch 7/10\n",
            "980/980 [==============================] - 32s 33ms/step - loss: 0.0080 - accuracy: 0.9976 - val_loss: 0.0375 - val_accuracy: 0.9909\n",
            "Epoch 8/10\n",
            "980/980 [==============================] - 34s 34ms/step - loss: 0.0059 - accuracy: 0.9984 - val_loss: 0.0394 - val_accuracy: 0.9890\n",
            "Epoch 9/10\n",
            "980/980 [==============================] - 33s 34ms/step - loss: 0.0039 - accuracy: 0.9990 - val_loss: 0.0361 - val_accuracy: 0.9911\n",
            "Epoch 10/10\n",
            "980/980 [==============================] - 33s 34ms/step - loss: 0.0027 - accuracy: 0.9993 - val_loss: 0.0360 - val_accuracy: 0.9922\n",
            "245/245 [==============================] - 2s 10ms/step - loss: 0.0360 - accuracy: 0.9922\n",
            "Epoch 1/10\n",
            "980/980 [==============================] - 34s 34ms/step - loss: 0.1393 - accuracy: 0.9584 - val_loss: 0.0650 - val_accuracy: 0.9814\n",
            "Epoch 2/10\n",
            "980/980 [==============================] - 34s 35ms/step - loss: 0.0442 - accuracy: 0.9873 - val_loss: 0.0617 - val_accuracy: 0.9825\n",
            "Epoch 3/10\n",
            "980/980 [==============================] - 33s 34ms/step - loss: 0.0282 - accuracy: 0.9915 - val_loss: 0.0443 - val_accuracy: 0.9878\n",
            "Epoch 4/10\n",
            "980/980 [==============================] - 33s 34ms/step - loss: 0.0196 - accuracy: 0.9937 - val_loss: 0.0449 - val_accuracy: 0.9879\n",
            "Epoch 5/10\n",
            "980/980 [==============================] - 33s 34ms/step - loss: 0.0144 - accuracy: 0.9960 - val_loss: 0.0463 - val_accuracy: 0.9866\n",
            "Epoch 6/10\n",
            "980/980 [==============================] - 33s 34ms/step - loss: 0.0095 - accuracy: 0.9973 - val_loss: 0.0485 - val_accuracy: 0.9878\n",
            "Epoch 7/10\n",
            "980/980 [==============================] - 34s 35ms/step - loss: 0.0065 - accuracy: 0.9984 - val_loss: 0.0495 - val_accuracy: 0.9886\n",
            "Epoch 8/10\n",
            "980/980 [==============================] - 33s 34ms/step - loss: 0.0042 - accuracy: 0.9990 - val_loss: 0.0414 - val_accuracy: 0.9903\n",
            "Epoch 9/10\n",
            "980/980 [==============================] - 33s 34ms/step - loss: 0.0028 - accuracy: 0.9994 - val_loss: 0.0462 - val_accuracy: 0.9890\n",
            "Epoch 10/10\n",
            "980/980 [==============================] - 33s 34ms/step - loss: 0.0028 - accuracy: 0.9993 - val_loss: 0.0419 - val_accuracy: 0.9900\n",
            "245/245 [==============================] - 3s 10ms/step - loss: 0.0419 - accuracy: 0.9900\n",
            "Epoch 1/10\n",
            "980/980 [==============================] - 34s 34ms/step - loss: 0.1447 - accuracy: 0.9557 - val_loss: 0.0598 - val_accuracy: 0.9812\n",
            "Epoch 2/10\n",
            "980/980 [==============================] - 33s 34ms/step - loss: 0.0460 - accuracy: 0.9863 - val_loss: 0.0451 - val_accuracy: 0.9857\n",
            "Epoch 3/10\n",
            "980/980 [==============================] - 33s 33ms/step - loss: 0.0305 - accuracy: 0.9909 - val_loss: 0.0352 - val_accuracy: 0.9886\n",
            "Epoch 4/10\n",
            "980/980 [==============================] - 33s 34ms/step - loss: 0.0214 - accuracy: 0.9932 - val_loss: 0.0358 - val_accuracy: 0.9888\n",
            "Epoch 5/10\n",
            "980/980 [==============================] - 34s 35ms/step - loss: 0.0166 - accuracy: 0.9953 - val_loss: 0.0373 - val_accuracy: 0.9876\n",
            "Epoch 6/10\n",
            "980/980 [==============================] - 33s 34ms/step - loss: 0.0109 - accuracy: 0.9968 - val_loss: 0.0303 - val_accuracy: 0.9909\n",
            "Epoch 7/10\n",
            "980/980 [==============================] - 33s 34ms/step - loss: 0.0073 - accuracy: 0.9982 - val_loss: 0.0432 - val_accuracy: 0.9872\n",
            "Epoch 8/10\n",
            "980/980 [==============================] - 33s 34ms/step - loss: 0.0043 - accuracy: 0.9989 - val_loss: 0.0410 - val_accuracy: 0.9889\n",
            "Epoch 9/10\n",
            "980/980 [==============================] - 33s 34ms/step - loss: 0.0035 - accuracy: 0.9991 - val_loss: 0.0367 - val_accuracy: 0.9897\n",
            "Epoch 10/10\n",
            "980/980 [==============================] - 35s 35ms/step - loss: 0.0030 - accuracy: 0.9993 - val_loss: 0.0413 - val_accuracy: 0.9900\n",
            "245/245 [==============================] - 2s 10ms/step - loss: 0.0413 - accuracy: 0.9900\n",
            "Epoch 1/10\n",
            "980/980 [==============================] - 33s 33ms/step - loss: 0.1439 - accuracy: 0.9568 - val_loss: 0.0574 - val_accuracy: 0.9833\n",
            "Epoch 2/10\n",
            "980/980 [==============================] - 32s 33ms/step - loss: 0.0471 - accuracy: 0.9855 - val_loss: 0.0421 - val_accuracy: 0.9880\n",
            "Epoch 3/10\n",
            "980/980 [==============================] - 33s 34ms/step - loss: 0.0302 - accuracy: 0.9905 - val_loss: 0.0450 - val_accuracy: 0.9872\n",
            "Epoch 4/10\n",
            "980/980 [==============================] - 33s 33ms/step - loss: 0.0214 - accuracy: 0.9932 - val_loss: 0.0372 - val_accuracy: 0.9888\n",
            "Epoch 5/10\n",
            "980/980 [==============================] - 32s 33ms/step - loss: 0.0148 - accuracy: 0.9954 - val_loss: 0.0379 - val_accuracy: 0.9895\n",
            "Epoch 6/10\n",
            "980/980 [==============================] - 32s 33ms/step - loss: 0.0111 - accuracy: 0.9964 - val_loss: 0.0327 - val_accuracy: 0.9909\n",
            "Epoch 7/10\n",
            "980/980 [==============================] - 32s 33ms/step - loss: 0.0069 - accuracy: 0.9982 - val_loss: 0.0345 - val_accuracy: 0.9923\n",
            "Epoch 8/10\n",
            "980/980 [==============================] - 32s 33ms/step - loss: 0.0058 - accuracy: 0.9980 - val_loss: 0.0373 - val_accuracy: 0.9920\n",
            "Epoch 9/10\n",
            "980/980 [==============================] - 34s 35ms/step - loss: 0.0031 - accuracy: 0.9992 - val_loss: 0.0368 - val_accuracy: 0.9912\n",
            "Epoch 10/10\n",
            "980/980 [==============================] - 32s 33ms/step - loss: 0.0024 - accuracy: 0.9993 - val_loss: 0.0344 - val_accuracy: 0.9929\n",
            "245/245 [==============================] - 2s 10ms/step - loss: 0.0344 - accuracy: 0.9929\n"
          ]
        }
      ]
    },
    {
      "cell_type": "code",
      "source": [
        "# scores for the 5 trained models\n",
        "scores"
      ],
      "metadata": {
        "id": "41HaLoxmM1iz",
        "colab": {
          "base_uri": "https://localhost:8080/"
        },
        "outputId": "9b41f4de-69e3-4be2-8f03-397f260f6f85"
      },
      "execution_count": 19,
      "outputs": [
        {
          "output_type": "execute_result",
          "data": {
            "text/plain": [
              "[0.9894132614135742,\n",
              " 0.9922193884849548,\n",
              " 0.9900497794151306,\n",
              " 0.9900497794151306,\n",
              " 0.9928562045097351]"
            ]
          },
          "metadata": {},
          "execution_count": 19
        }
      ]
    },
    {
      "cell_type": "code",
      "source": [
        "'''\n",
        "  # plots the loss and accuracy for training and validation sets\n",
        "'''\n",
        "def plot_learning_curves(history):\n",
        "  fig, (ax1, ax2) = plt.subplots(1, 2)\n",
        "  for model in history:\n",
        "    ax1.set_title('Cross Entropy Loss')\n",
        "    ax1.plot(model.history['loss'], color = 'blue', label = 'train')\n",
        "    ax1.plot(model.history['val_loss'], color = 'red', label = 'validation')\n",
        "\n",
        "    ax2.set_title('Accuracy')\n",
        "    ax2.plot(model.history['accuracy'], color = 'blue', label = 'train')\n",
        "    ax2.plot(model.history['val_accuracy'], color = 'red', label = 'validation')\n",
        "  plt.show()"
      ],
      "metadata": {
        "id": "h16JCBV20Ktg"
      },
      "execution_count": 20,
      "outputs": []
    },
    {
      "cell_type": "code",
      "source": [
        "plot_learning_curves(history)"
      ],
      "metadata": {
        "id": "EVJ4PaUQ6XBF",
        "colab": {
          "base_uri": "https://localhost:8080/",
          "height": 281
        },
        "outputId": "5f746fd5-9861-4bc1-cefe-eb08a7820d30"
      },
      "execution_count": 21,
      "outputs": [
        {
          "output_type": "display_data",
          "data": {
            "text/plain": [
              "<Figure size 432x288 with 2 Axes>"
            ],
            "image/png": "[encoded data removed]"
          },
          "metadata": {
            "needs_background": "light"
          }
        }
      ]
    },
    {
      "cell_type": "code",
      "source": [
        "prob_vec_train = models[4].predict(train_norm)\n",
        "prob_vec_test = models[4].predict(test_norm)"
      ],
      "metadata": {
        "id": "PX7LuTR2813Q",
        "colab": {
          "base_uri": "https://localhost:8080/"
        },
        "outputId": "2040c1b9-13ee-4cae-b676-e2c57474ba3d"
      },
      "execution_count": 22,
      "outputs": [
        {
          "output_type": "stream",
          "name": "stdout",
          "text": [
            "1225/1225 [==============================] - 12s 10ms/step\n",
            "313/313 [==============================] - 3s 9ms/step\n"
          ]
        }
      ]
    },
    {
      "cell_type": "code",
      "source": [
        "prob_vec_train[0]"
      ],
      "metadata": {
        "id": "7WhBUeJ9-pr3",
        "colab": {
          "base_uri": "https://localhost:8080/"
        },
        "outputId": "52190817-ca78-4187-8da7-567c8ac64c41"
      },
      "execution_count": 23,
      "outputs": [
        {
          "output_type": "execute_result",
          "data": {
            "text/plain": [
              "array([5.9531488e-14, 2.6697792e-08, 3.7564396e-13, 1.5078892e-02,\n",
              "       3.0553024e-14, 9.8491293e-01, 2.2893977e-11, 1.7091654e-10,\n",
              "       8.0804020e-06, 4.4166196e-10], dtype=float32)"
            ]
          },
          "metadata": {},
          "execution_count": 23
        }
      ]
    },
    {
      "cell_type": "code",
      "source": [
        "prob_vec_test[0]"
      ],
      "metadata": {
        "id": "rbkH2I_vHqx4",
        "colab": {
          "base_uri": "https://localhost:8080/"
        },
        "outputId": "a524f8c9-329c-49d8-82c4-592d24276cbe"
      },
      "execution_count": 24,
      "outputs": [
        {
          "output_type": "execute_result",
          "data": {
            "text/plain": [
              "array([8.4495136e-16, 1.2050890e-12, 4.2255996e-13, 8.6670691e-11,\n",
              "       7.8480375e-17, 1.6617092e-15, 4.7874358e-21, 9.9999994e-01,\n",
              "       8.3076944e-14, 2.0828537e-13], dtype=float32)"
            ]
          },
          "metadata": {},
          "execution_count": 24
        }
      ]
    },
    {
      "cell_type": "code",
      "source": [
        "'''\n",
        "  # computes entropy for probability vectors\n",
        "  # prob_vec - probability vector\n",
        "'''\n",
        "def cal_entropy(prob_vec):\n",
        "  entropy = 0\n",
        "  for prob in prob_vec:\n",
        "    entropy = entropy + prob * math.log(prob, 10)\n",
        "  return -1 * entropy"
      ],
      "metadata": {
        "id": "DINYNLOdInK7"
      },
      "execution_count": 25,
      "outputs": []
    },
    {
      "cell_type": "code",
      "source": [
        "'''\n",
        "  # computes standard deviation for probability vector\n",
        "'''\n",
        "def cal_std(prob_vec):\n",
        "  mean = statistics.mean(prob_vec)\n",
        "  variance = 0\n",
        "\n",
        "  for prob in prob_vec:\n",
        "    variance += (prob - mean) ** 2\n",
        "  variance /= len(prob_vec)\n",
        "\n",
        "  return math.sqrt(variance)"
      ],
      "metadata": {
        "id": "DjODYDhwQqPe"
      },
      "execution_count": 26,
      "outputs": []
    },
    {
      "cell_type": "code",
      "source": [
        "# compute average entropy and standard deviation for probability vector of training examples\n",
        "# stores the entropy and standard deviation for each probability vector\n",
        "\n",
        "entropy_train = list()\n",
        "std_train = list()\n",
        "max_prob_train = list()\n",
        "\n",
        "sum_entropy = 0\n",
        "sum_std = 0\n",
        "sum_max_prob = 0\n",
        "\n",
        "for prob_vec in prob_vec_train:\n",
        "  cur_entropy = cal_entropy(prob_vec)\n",
        "  cur_std = cal_std(prob_vec)\n",
        "  cur_max_prob = max(prob_vec)\n",
        "\n",
        "  entropy_train.append(cur_entropy)\n",
        "  std_train.append(cur_std)\n",
        "  max_prob_train.append(cur_max_prob)\n",
        "\n",
        "  sum_entropy = sum_entropy + cur_entropy\n",
        "  sum_std = sum_std + cur_std\n",
        "  sum_max_prob += cur_max_prob\n",
        "\n",
        "avg_train_entropy = sum_entropy / len(prob_vec_train)\n",
        "avg_train_std = sum_std / len(prob_vec_train)\n",
        "avg_train_max_prob = sum_max_prob / len(prob_vec_train)\n",
        "\n",
        "print(f\"Avg train entropy - {avg_train_entropy}, Avg train std - {avg_train_std}, Avg train max probability - {avg_train_max_prob}\")"
      ],
      "metadata": {
        "id": "aVpo1ZBdJr3R",
        "colab": {
          "base_uri": "https://localhost:8080/"
        },
        "outputId": "72eebd2d-4587-4136-e817-52715964de22"
      },
      "execution_count": 27,
      "outputs": [
        {
          "output_type": "stream",
          "name": "stdout",
          "text": [
            "Avg train entropy - 0.001941923356804996, Avg train std - 0.2996286631328047, Avg train max probability - 0.9987524096412641\n"
          ]
        }
      ]
    },
    {
      "cell_type": "code",
      "source": [
        "# compute average entropy and standard deviation for probability vector of testing examples\n",
        "# stores the entropy and standard deviation for each probability vector\n",
        "\n",
        "entropy_test = list()\n",
        "std_test = list()\n",
        "max_prob_test = list()\n",
        "\n",
        "sum_entropy = 0\n",
        "sum_std = 0\n",
        "sum_max_prob = 0\n",
        "\n",
        "for prob_vec in prob_vec_test:\n",
        "  cur_entropy = cal_entropy(prob_vec)\n",
        "  cur_std = cal_std(prob_vec)\n",
        "  cur_max_prob = max(prob_vec)\n",
        "\n",
        "  entropy_test.append(cur_entropy)\n",
        "  std_test.append(cur_std)\n",
        "  max_prob_test.append(cur_max_prob)\n",
        "\n",
        "  sum_entropy = sum_entropy + cur_entropy\n",
        "  sum_std = sum_std + cur_std\n",
        "  sum_max_prob += cur_max_prob\n",
        "\n",
        "avg_test_entropy = sum_entropy / len(prob_vec_test)\n",
        "avg_test_std = sum_std / len(prob_vec_test)\n",
        "avg_test_max_prob = sum_max_prob / len(prob_vec_test)\n",
        "\n",
        "print(f\"Avg test entropy - {avg_test_entropy}, Avg test std - {avg_test_std}, Avg test max probability - {avg_test_max_prob}\")"
      ],
      "metadata": {
        "colab": {
          "base_uri": "https://localhost:8080/"
        },
        "id": "tVy5zK-d92Ad",
        "outputId": "7acd4cb1-ca3f-44ad-d0e7-32b712d61e03"
      },
      "execution_count": 28,
      "outputs": [
        {
          "output_type": "stream",
          "name": "stdout",
          "text": [
            "Avg test entropy - 0.012242663938828223, Avg test std - 0.29704484310472273, Avg test max probability - 0.9892908159643412\n"
          ]
        }
      ]
    },
    {
      "cell_type": "code",
      "source": [
        "'''\n",
        "  # calculates AUC score for attack model using trapezoidal method\n",
        "  # train_vec - entropy for probability vectors of training examples\n",
        "  # test_vec - entropy for probability vectors of testing examples\n",
        "  # pos_count - number of examples which are members of training set\n",
        "  # neg_count - number of examples which are non-members of training set\n",
        "  # inc_threshold - controls the number of thresholds for which AUC is computed\n",
        "'''\n",
        "def cal_auc(train_vec, test_vec, pos_count, neg_count, inc_threshold = 0.1):\n",
        "  threshold = 0\n",
        "  tpr_list, fpr_list = list(), list()\n",
        "  tuple_tpr, tuple_fpr = list(), list()\n",
        "  points = list()\n",
        "  auc = 0\n",
        "\n",
        "  while(threshold <= 1):\n",
        "    tp_count = 0\n",
        "    fp_count = 0\n",
        "\n",
        "    for val in train_vec:\n",
        "      if(val <= threshold):\n",
        "        tp_count += 1\n",
        "      \n",
        "    for val in test_vec:\n",
        "      if(val <= threshold):\n",
        "        fp_count += 1\n",
        "\n",
        "    tpr = tp_count / pos_count\n",
        "    fpr = fp_count / neg_count\n",
        "    \n",
        "    tpr_list.append(tpr)\n",
        "    fpr_list.append(fpr)\n",
        "\n",
        "    threshold += inc_threshold\n",
        "\n",
        "  for i in range(len(tpr_list)):\n",
        "    points.append([fpr_list[i], tpr_list[i]])\n",
        "\n",
        "  points.sort()\n",
        "\n",
        "  for i in range(len(points) - 1):\n",
        "    tuple_tpr.append([points[i][1], points[i + 1][1]])\n",
        "    tuple_fpr.append([points[i][0], points[i + 1][0]])\n",
        "\n",
        "  auc = sum(np.trapz(tuple_tpr, tuple_fpr))\n",
        "  plt.scatter(fpr_list, tpr_list)\n",
        "  plt.show()\n",
        "  return auc"
      ],
      "metadata": {
        "id": "Qt6xV8AxL4ls"
      },
      "execution_count": 30,
      "outputs": []
    },
    {
      "cell_type": "code",
      "source": [
        "# calculate auc score using entropy as the parameter\n",
        "cal_auc(entropy_train, entropy_test, len(entropy_train), len(entropy_test), 0.00001)"
      ],
      "metadata": {
        "id": "G0zGiFGIWc8h",
        "colab": {
          "base_uri": "https://localhost:8080/",
          "height": 282
        },
        "outputId": "a035fe3d-1c23-452e-d344-32abe3a36d63"
      },
      "execution_count": 31,
      "outputs": [
        {
          "output_type": "display_data",
          "data": {
            "text/plain": [
              "<Figure size 432x288 with 1 Axes>"
            ],
            "image/png": "[encoded data removed]"
          },
          "metadata": {
            "needs_background": "light"
          }
        },
        {
          "output_type": "execute_result",
          "data": {
            "text/plain": [
              "0.5953258323341064"
            ]
          },
          "metadata": {},
          "execution_count": 31
        }
      ]
    },
    {
      "cell_type": "code",
      "source": [
        "# calculate auc score using std as the parameter\n",
        "cal_auc(std_train, std_test, len(std_train), len(std_test), 0.00001)"
      ],
      "metadata": {
        "id": "EYjp_iaQdZTy",
        "colab": {
          "base_uri": "https://localhost:8080/",
          "height": 282
        },
        "outputId": "d04f3b0c-7f37-43c0-f16c-d49e7e78ba25"
      },
      "execution_count": 29,
      "outputs": [
        {
          "output_type": "display_data",
          "data": {
            "text/plain": [
              "<Figure size 432x288 with 1 Axes>"
            ],
            "image/png": "[encoded data removed]"
          },
          "metadata": {
            "needs_background": "light"
          }
        },
        {
          "output_type": "execute_result",
          "data": {
            "text/plain": [
              "0.49727463895574897"
            ]
          },
          "metadata": {},
          "execution_count": 29
        }
      ]
    },
    {
      "cell_type": "code",
      "source": [
        "# calculate auc score using max probability as the parameter\n",
        "cal_auc(max_prob_train, max_prob_test, len(max_prob_train), len(max_prob_test), 0.0001)"
      ],
      "metadata": {
        "id": "E5RS7Hf-5ydp",
        "colab": {
          "base_uri": "https://localhost:8080/",
          "height": 282
        },
        "outputId": "c8d44181-dfd3-42ba-960f-6f7e8d4d3491"
      },
      "execution_count": 32,
      "outputs": [
        {
          "output_type": "display_data",
          "data": {
            "text/plain": [
              "<Figure size 432x288 with 1 Axes>"
            ],
            "image/png": "[encoded data removed]"
          },
          "metadata": {
            "needs_background": "light"
          }
        },
        {
          "output_type": "execute_result",
          "data": {
            "text/plain": [
              "0.4414300086741333"
            ]
          },
          "metadata": {},
          "execution_count": 32
        }
      ]
    },
    {
      "cell_type": "code",
      "source": [
        "plt.boxplot([entropy_train, entropy_test], showmeans=True)\n",
        "plt.show()"
      ],
      "metadata": {
        "colab": {
          "base_uri": "https://localhost:8080/",
          "height": 320
        },
        "id": "Bq57Ne4IipKE",
        "outputId": "2aea610a-71d3-4ce0-8fd2-c34f952b2b87"
      },
      "execution_count": 33,
      "outputs": [
        {
          "output_type": "stream",
          "name": "stderr",
          "text": [
            "/usr/local/lib/python3.7/dist-packages/matplotlib/cbook/__init__.py:1376: VisibleDeprecationWarning: Creating an ndarray from ragged nested sequences (which is a list-or-tuple of lists-or-tuples-or ndarrays with different lengths or shapes) is deprecated. If you meant to do this, you must specify 'dtype=object' when creating the ndarray.\n",
            "  X = np.atleast_1d(X.T if isinstance(X, np.ndarray) else np.asarray(X))\n"
          ]
        },
        {
          "output_type": "display_data",
          "data": {
            "text/plain": [
              "<Figure size 432x288 with 1 Axes>"
            ],
            "image/png": "[encoded data removed]"
          },
          "metadata": {
            "needs_background": "light"
          }
        }
      ]
    },
    {
      "cell_type": "code",
      "source": [
        "statistics.pstdev([5923, 2001, 5958, 1001, 5842, 501, 5918, 6001, 5851, 201])"
      ],
      "metadata": {
        "colab": {
          "base_uri": "https://localhost:8080/"
        },
        "id": "M54hHCcxnPpN",
        "outputId": "27fab205-eedf-4652-83fc-768098f860c4"
      },
      "execution_count": 34,
      "outputs": [
        {
          "output_type": "execute_result",
          "data": {
            "text/plain": [
              "2482.62977707108"
            ]
          },
          "metadata": {},
          "execution_count": 34
        }
      ]
    },
    {
      "cell_type": "code",
      "source": [],
      "metadata": {
        "id": "3WSwt5cAqTKz"
      },
      "execution_count": null,
      "outputs": []
    }
  ]
}