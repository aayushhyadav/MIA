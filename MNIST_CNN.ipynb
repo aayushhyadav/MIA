{
  "nbformat": 4,
  "nbformat_minor": 0,
  "metadata": {
    "colab": {
      "provenance": [],
      "collapsed_sections": [],
      "authorship_tag": "ABX9TyOsvGI4KlyzxtNnah3ulKaQ",
      "include_colab_link": true
    },
    "kernelspec": {
      "name": "python3",
      "display_name": "Python 3"
    },
    "language_info": {
      "name": "python"
    }
  },
  "cells": [
    {
      "cell_type": "markdown",
      "metadata": {
        "id": "view-in-github",
        "colab_type": "text"
      },
      "source": [
        "<a href=\"https://colab.research.google.com/github/aayushhyadav/MIA/blob/feature%2Fmnist/MNIST_CNN.ipynb\" target=\"_parent\"><img src=\"https://colab.research.google.com/assets/colab-badge.svg\" alt=\"Open In Colab\"/></a>"
      ]
    },
    {
      "cell_type": "code",
      "execution_count": null,
      "metadata": {
        "id": "GYuxh0Id16qi"
      },
      "outputs": [],
      "source": [
        "!pip install tensorflow"
      ]
    },
    {
      "cell_type": "code",
      "source": [
        "import tensorflow as tf\n",
        "from matplotlib import pyplot as plt\n",
        "import pandas as pd\n",
        "from sklearn.model_selection import KFold\n",
        "import math"
      ],
      "metadata": {
        "id": "agR-YI8X5j8n"
      },
      "execution_count": 2,
      "outputs": []
    },
    {
      "cell_type": "code",
      "source": [
        "'''\n",
        "  # loads mnist dataset\n",
        "  # flattens the dataset\n",
        "  # performs one hot encoding on target values\n",
        "'''\n",
        "def load_dataset():\n",
        "  (train_X, train_y), (test_X, test_y) = tf.keras.datasets.mnist.load_data()\n",
        "  \n",
        "  class_examples_train = [0, 0, 0, 0, 0, 0, 0, 0, 0, 0]\n",
        "  class_examples_test = [0, 0, 0, 0, 0, 0, 0, 0, 0, 0]\n",
        "\n",
        "  for example in train_y:\n",
        "    class_examples_train[example] += 1\n",
        "  for example in test_y:\n",
        "    class_examples_test[example] += 1\n",
        "\n",
        "  for i in range(9):\n",
        "    plt.subplot(331 + i)\n",
        "    plt.imshow(train_X[i], cmap='gray')\n",
        "  plt.show()\n",
        "\n",
        "  print(f'class distribution for training dataset - {class_examples_train}')\n",
        "  print(f'class distribution for testing dataset - {class_examples_test}')\n",
        "\n",
        "  flat_train_X = train_X.reshape((train_X.shape[0], 28, 28, 1))\n",
        "  flat_test_X = test_X.reshape((test_X.shape[0], 28, 28, 1))\n",
        "  \n",
        "  ohe_train_y = pd.get_dummies(train_y)\n",
        "  ohe_test_y = pd.get_dummies(test_y)\n",
        "\n",
        "  return flat_train_X, flat_test_X, ohe_train_y.to_numpy(), ohe_test_y.to_numpy()"
      ],
      "metadata": {
        "id": "h-IHDLptHJrr"
      },
      "execution_count": 14,
      "outputs": []
    },
    {
      "cell_type": "code",
      "source": [
        "train_X, test_X, train_y, test_y = load_dataset()"
      ],
      "metadata": {
        "colab": {
          "base_uri": "https://localhost:8080/",
          "height": 303
        },
        "id": "k5zu_feeHvuU",
        "outputId": "386c42a7-0be9-4d77-f8fa-b18119c2fd46"
      },
      "execution_count": 15,
      "outputs": [
        {
          "output_type": "display_data",
          "data": {
            "text/plain": [
              "<Figure size 432x288 with 9 Axes>"
            ],
            "image/png": "[encoded data removed]"
          },
          "metadata": {
            "needs_background": "light"
          }
        },
        {
          "output_type": "stream",
          "name": "stdout",
          "text": [
            "class distribution for training dataset - [5923, 6742, 5958, 6131, 5842, 5421, 5918, 6265, 5851, 5949]\n",
            "class distribution for testing dataset - [980, 1135, 1032, 1010, 982, 892, 958, 1028, 974, 1009]\n"
          ]
        }
      ]
    },
    {
      "cell_type": "code",
      "source": [
        "'''\n",
        "  # perfroms feature scaling on training and test sets\n",
        "'''\n",
        "def standardize(train, test):\n",
        "  train_norm = train.astype('float32')\n",
        "  test_norm = test.astype('float32')\n",
        "  \n",
        "  train_norm = train_norm / 255.0\n",
        "  test_norm = test_norm / 255.0\n",
        "\n",
        "  return train_norm, test_norm"
      ],
      "metadata": {
        "id": "gqCNkaaPHFA1"
      },
      "execution_count": 16,
      "outputs": []
    },
    {
      "cell_type": "code",
      "source": [
        "train_norm, test_norm = standardize(train_X, test_X)"
      ],
      "metadata": {
        "id": "-kqUQQgGwI1h"
      },
      "execution_count": 17,
      "outputs": []
    },
    {
      "cell_type": "code",
      "source": [
        "'''\n",
        "  # creates a 2d CNN\n",
        "'''\n",
        "def create_model():\n",
        "  model = tf.keras.Sequential()\n",
        "  model.add(tf.keras.layers.Conv2D(32, (3, 3), activation='relu', kernel_initializer='he_uniform', input_shape=(28, 28, 1)))\n",
        "  model.add(tf.keras.layers.MaxPool2D((2, 2)))\n",
        "\n",
        "  model.add(tf.keras.layers.Conv2D(32, (3, 3), activation='relu', kernel_initializer='he_uniform'))\n",
        "  model.add(tf.keras.layers.MaxPool2D((2, 2)))\n",
        "  \n",
        "  model.add(tf.keras.layers.Flatten())\n",
        "  \n",
        "  model.add(tf.keras.layers.Dense(128, activation='relu', kernel_initializer='he_uniform'))\n",
        "  model.add(tf.keras.layers.Dense(10, activation='softmax'))\n",
        "  \n",
        "  model.compile(optimizer=tf.keras.optimizers.SGD(learning_rate=0.01, momentum=0.9), loss='categorical_crossentropy', metrics=['accuracy'])\n",
        "\n",
        "  return model"
      ],
      "metadata": {
        "id": "35iTJqc9wStc"
      },
      "execution_count": 18,
      "outputs": []
    },
    {
      "cell_type": "code",
      "source": [
        "'''\n",
        "  # evaluates the model using k-fold method\n",
        "  # data_X - training examples\n",
        "  # data_y - testing examples\n",
        "  # n_folds - number of folds\n",
        "  # returns list of accuracy of models on validation data, list of fitted models, and list of sequential models\n",
        "'''\n",
        "def evaluate_model(data_X, data_y, n_folds = 5):\n",
        "  scores, history, models = list(), list(), list()\n",
        "  kfold = KFold(n_folds, shuffle = True, random_state = 1)\n",
        "  for cur_train_X, cur_test_X in kfold.split(data_X):\n",
        "    model = create_model()\n",
        "    models.append(model)\n",
        "\n",
        "    train_X, train_y, test_X, test_y = data_X[cur_train_X], data_y[cur_train_X], data_X[cur_test_X], data_y[cur_test_X]\n",
        "    history.append(model.fit(train_X, train_y, epochs = 10, batch_size = 32, validation_data = (test_X, test_y)))\n",
        "\n",
        "    _, acc = model.evaluate(test_X, test_y)\n",
        "    scores.append(acc)\n",
        "  return scores, history, models"
      ],
      "metadata": {
        "id": "X4EOadYOGKgg"
      },
      "execution_count": 19,
      "outputs": []
    },
    {
      "cell_type": "code",
      "source": [
        "scores, history, models = evaluate_model(train_norm, train_y)"
      ],
      "metadata": {
        "colab": {
          "base_uri": "https://localhost:8080/"
        },
        "id": "BlrH6T_jLkHp",
        "outputId": "c3bb9e20-7442-4ad8-cab0-4e1a5c2ab656"
      },
      "execution_count": 20,
      "outputs": [
        {
          "output_type": "stream",
          "name": "stdout",
          "text": [
            "Epoch 1/10\n",
            "1500/1500 [==============================] - 39s 26ms/step - loss: 0.1453 - accuracy: 0.9547 - val_loss: 0.0645 - val_accuracy: 0.9804\n",
            "Epoch 2/10\n",
            "1500/1500 [==============================] - 39s 26ms/step - loss: 0.0492 - accuracy: 0.9852 - val_loss: 0.0544 - val_accuracy: 0.9833\n",
            "Epoch 3/10\n",
            "1500/1500 [==============================] - 40s 27ms/step - loss: 0.0334 - accuracy: 0.9890 - val_loss: 0.0586 - val_accuracy: 0.9841\n",
            "Epoch 4/10\n",
            "1500/1500 [==============================] - 39s 26ms/step - loss: 0.0248 - accuracy: 0.9919 - val_loss: 0.0557 - val_accuracy: 0.9825\n",
            "Epoch 5/10\n",
            "1500/1500 [==============================] - 40s 27ms/step - loss: 0.0186 - accuracy: 0.9940 - val_loss: 0.0456 - val_accuracy: 0.9862\n",
            "Epoch 6/10\n",
            "1500/1500 [==============================] - 40s 27ms/step - loss: 0.0145 - accuracy: 0.9952 - val_loss: 0.0458 - val_accuracy: 0.9876\n",
            "Epoch 7/10\n",
            "1500/1500 [==============================] - 40s 26ms/step - loss: 0.0118 - accuracy: 0.9960 - val_loss: 0.0460 - val_accuracy: 0.9887\n",
            "Epoch 8/10\n",
            "1500/1500 [==============================] - 41s 27ms/step - loss: 0.0078 - accuracy: 0.9974 - val_loss: 0.0468 - val_accuracy: 0.9891\n",
            "Epoch 9/10\n",
            "1500/1500 [==============================] - 39s 26ms/step - loss: 0.0066 - accuracy: 0.9978 - val_loss: 0.0510 - val_accuracy: 0.9886\n",
            "Epoch 10/10\n",
            "1500/1500 [==============================] - 39s 26ms/step - loss: 0.0050 - accuracy: 0.9985 - val_loss: 0.0460 - val_accuracy: 0.9887\n",
            "375/375 [==============================] - 3s 7ms/step - loss: 0.0460 - accuracy: 0.9887\n",
            "Epoch 1/10\n",
            "1500/1500 [==============================] - 41s 27ms/step - loss: 0.1581 - accuracy: 0.9505 - val_loss: 0.0668 - val_accuracy: 0.9792\n",
            "Epoch 2/10\n",
            "1500/1500 [==============================] - 39s 26ms/step - loss: 0.0499 - accuracy: 0.9849 - val_loss: 0.0488 - val_accuracy: 0.9853\n",
            "Epoch 3/10\n",
            "1500/1500 [==============================] - 40s 27ms/step - loss: 0.0338 - accuracy: 0.9894 - val_loss: 0.0480 - val_accuracy: 0.9856\n",
            "Epoch 4/10\n",
            "1500/1500 [==============================] - 40s 26ms/step - loss: 0.0244 - accuracy: 0.9922 - val_loss: 0.0423 - val_accuracy: 0.9887\n",
            "Epoch 5/10\n",
            "1500/1500 [==============================] - 40s 27ms/step - loss: 0.0178 - accuracy: 0.9947 - val_loss: 0.0489 - val_accuracy: 0.9850\n",
            "Epoch 6/10\n",
            "1500/1500 [==============================] - 41s 27ms/step - loss: 0.0143 - accuracy: 0.9958 - val_loss: 0.0598 - val_accuracy: 0.9831\n",
            "Epoch 7/10\n",
            "1500/1500 [==============================] - 39s 26ms/step - loss: 0.0108 - accuracy: 0.9965 - val_loss: 0.0384 - val_accuracy: 0.9889\n",
            "Epoch 8/10\n",
            "1500/1500 [==============================] - 39s 26ms/step - loss: 0.0084 - accuracy: 0.9976 - val_loss: 0.0400 - val_accuracy: 0.9898\n",
            "Epoch 9/10\n",
            "1500/1500 [==============================] - 40s 27ms/step - loss: 0.0059 - accuracy: 0.9981 - val_loss: 0.0423 - val_accuracy: 0.9893\n",
            "Epoch 10/10\n",
            "1500/1500 [==============================] - 39s 26ms/step - loss: 0.0049 - accuracy: 0.9985 - val_loss: 0.0421 - val_accuracy: 0.9895\n",
            "375/375 [==============================] - 3s 7ms/step - loss: 0.0421 - accuracy: 0.9895\n",
            "Epoch 1/10\n",
            "1500/1500 [==============================] - 41s 27ms/step - loss: 0.1519 - accuracy: 0.9534 - val_loss: 0.0742 - val_accuracy: 0.9784\n",
            "Epoch 2/10\n",
            "1500/1500 [==============================] - 39s 26ms/step - loss: 0.0521 - accuracy: 0.9840 - val_loss: 0.0579 - val_accuracy: 0.9835\n",
            "Epoch 3/10\n",
            "1500/1500 [==============================] - 39s 26ms/step - loss: 0.0356 - accuracy: 0.9889 - val_loss: 0.0490 - val_accuracy: 0.9842\n",
            "Epoch 4/10\n",
            "1500/1500 [==============================] - 40s 27ms/step - loss: 0.0255 - accuracy: 0.9917 - val_loss: 0.0448 - val_accuracy: 0.9875\n",
            "Epoch 5/10\n",
            "1500/1500 [==============================] - 39s 26ms/step - loss: 0.0190 - accuracy: 0.9939 - val_loss: 0.0438 - val_accuracy: 0.9877\n",
            "Epoch 6/10\n",
            "1500/1500 [==============================] - 39s 26ms/step - loss: 0.0137 - accuracy: 0.9955 - val_loss: 0.0412 - val_accuracy: 0.9882\n",
            "Epoch 7/10\n",
            "1500/1500 [==============================] - 40s 27ms/step - loss: 0.0110 - accuracy: 0.9965 - val_loss: 0.0446 - val_accuracy: 0.9873\n",
            "Epoch 8/10\n",
            "1500/1500 [==============================] - 40s 27ms/step - loss: 0.0083 - accuracy: 0.9974 - val_loss: 0.0519 - val_accuracy: 0.9872\n",
            "Epoch 9/10\n",
            "1500/1500 [==============================] - 40s 27ms/step - loss: 0.0075 - accuracy: 0.9976 - val_loss: 0.0448 - val_accuracy: 0.9885\n",
            "Epoch 10/10\n",
            "1500/1500 [==============================] - 39s 26ms/step - loss: 0.0052 - accuracy: 0.9986 - val_loss: 0.0440 - val_accuracy: 0.9898\n",
            "375/375 [==============================] - 3s 7ms/step - loss: 0.0440 - accuracy: 0.9898\n",
            "Epoch 1/10\n",
            "1500/1500 [==============================] - 41s 27ms/step - loss: 0.1502 - accuracy: 0.9533 - val_loss: 0.0670 - val_accuracy: 0.9784\n",
            "Epoch 2/10\n",
            "1500/1500 [==============================] - 41s 27ms/step - loss: 0.0552 - accuracy: 0.9828 - val_loss: 0.0411 - val_accuracy: 0.9861\n",
            "Epoch 3/10\n",
            "1500/1500 [==============================] - 39s 26ms/step - loss: 0.0362 - accuracy: 0.9890 - val_loss: 0.0486 - val_accuracy: 0.9843\n",
            "Epoch 4/10\n",
            "1500/1500 [==============================] - 39s 26ms/step - loss: 0.0275 - accuracy: 0.9910 - val_loss: 0.0428 - val_accuracy: 0.9873\n",
            "Epoch 5/10\n",
            "1500/1500 [==============================] - 41s 27ms/step - loss: 0.0217 - accuracy: 0.9931 - val_loss: 0.0431 - val_accuracy: 0.9862\n",
            "Epoch 6/10\n",
            "1500/1500 [==============================] - 40s 27ms/step - loss: 0.0152 - accuracy: 0.9952 - val_loss: 0.0342 - val_accuracy: 0.9891\n",
            "Epoch 7/10\n",
            "1500/1500 [==============================] - 41s 27ms/step - loss: 0.0124 - accuracy: 0.9963 - val_loss: 0.0322 - val_accuracy: 0.9905\n",
            "Epoch 8/10\n",
            "1500/1500 [==============================] - 40s 27ms/step - loss: 0.0102 - accuracy: 0.9967 - val_loss: 0.0431 - val_accuracy: 0.9874\n",
            "Epoch 9/10\n",
            "1500/1500 [==============================] - 40s 27ms/step - loss: 0.0085 - accuracy: 0.9972 - val_loss: 0.0358 - val_accuracy: 0.9898\n",
            "Epoch 10/10\n",
            "1500/1500 [==============================] - 41s 27ms/step - loss: 0.0059 - accuracy: 0.9985 - val_loss: 0.0324 - val_accuracy: 0.9914\n",
            "375/375 [==============================] - 3s 8ms/step - loss: 0.0324 - accuracy: 0.9914\n",
            "Epoch 1/10\n",
            "1500/1500 [==============================] - 42s 28ms/step - loss: 0.1553 - accuracy: 0.9522 - val_loss: 0.0851 - val_accuracy: 0.9738\n",
            "Epoch 2/10\n",
            "1500/1500 [==============================] - 40s 27ms/step - loss: 0.0551 - accuracy: 0.9826 - val_loss: 0.0560 - val_accuracy: 0.9832\n",
            "Epoch 3/10\n",
            "1500/1500 [==============================] - 39s 26ms/step - loss: 0.0388 - accuracy: 0.9882 - val_loss: 0.0497 - val_accuracy: 0.9837\n",
            "Epoch 4/10\n",
            "1500/1500 [==============================] - 41s 27ms/step - loss: 0.0279 - accuracy: 0.9914 - val_loss: 0.0555 - val_accuracy: 0.9830\n",
            "Epoch 5/10\n",
            "1500/1500 [==============================] - 39s 26ms/step - loss: 0.0214 - accuracy: 0.9933 - val_loss: 0.0423 - val_accuracy: 0.9874\n",
            "Epoch 6/10\n",
            "1500/1500 [==============================] - 39s 26ms/step - loss: 0.0160 - accuracy: 0.9949 - val_loss: 0.0402 - val_accuracy: 0.9877\n",
            "Epoch 7/10\n",
            "1500/1500 [==============================] - 40s 27ms/step - loss: 0.0118 - accuracy: 0.9962 - val_loss: 0.0449 - val_accuracy: 0.9886\n",
            "Epoch 8/10\n",
            "1500/1500 [==============================] - 39s 26ms/step - loss: 0.0098 - accuracy: 0.9967 - val_loss: 0.0464 - val_accuracy: 0.9877\n",
            "Epoch 9/10\n",
            "1500/1500 [==============================] - 39s 26ms/step - loss: 0.0073 - accuracy: 0.9980 - val_loss: 0.0445 - val_accuracy: 0.9884\n",
            "Epoch 10/10\n",
            "1500/1500 [==============================] - 40s 27ms/step - loss: 0.0046 - accuracy: 0.9988 - val_loss: 0.0421 - val_accuracy: 0.9892\n",
            "375/375 [==============================] - 3s 8ms/step - loss: 0.0421 - accuracy: 0.9892\n"
          ]
        }
      ]
    },
    {
      "cell_type": "code",
      "source": [
        "scores"
      ],
      "metadata": {
        "colab": {
          "base_uri": "https://localhost:8080/"
        },
        "id": "41HaLoxmM1iz",
        "outputId": "97a476dd-f154-4e1a-9e10-2882f8b31068"
      },
      "execution_count": 21,
      "outputs": [
        {
          "output_type": "execute_result",
          "data": {
            "text/plain": [
              "[0.9886666536331177,\n",
              " 0.9894999861717224,\n",
              " 0.9898333549499512,\n",
              " 0.9914166927337646,\n",
              " 0.9891666769981384]"
            ]
          },
          "metadata": {},
          "execution_count": 21
        }
      ]
    },
    {
      "cell_type": "code",
      "source": [
        "'''\n",
        "  # plots the loss and accuracy for training and validation sets\n",
        "'''\n",
        "def plot_learning_curves(history):\n",
        "  fig, (ax1, ax2) = plt.subplots(1, 2)\n",
        "  for model in history:\n",
        "    ax1.set_title('Cross Entropy Loss')\n",
        "    ax1.plot(model.history['loss'], color = 'blue', label = 'train')\n",
        "    ax1.plot(model.history['val_loss'], color = 'red', label = 'validation')\n",
        "\n",
        "    ax2.set_title('Accuracy')\n",
        "    ax2.plot(model.history['accuracy'], color = 'blue', label = 'train')\n",
        "    ax2.plot(model.history['val_accuracy'], color = 'red', label = 'validation')\n",
        "  plt.show()"
      ],
      "metadata": {
        "id": "h16JCBV20Ktg"
      },
      "execution_count": 22,
      "outputs": []
    },
    {
      "cell_type": "code",
      "source": [
        "plot_learning_curves(history)"
      ],
      "metadata": {
        "colab": {
          "base_uri": "https://localhost:8080/",
          "height": 281
        },
        "id": "EVJ4PaUQ6XBF",
        "outputId": "2bdbb65c-d25e-45a2-b168-887f797ed248"
      },
      "execution_count": 23,
      "outputs": [
        {
          "output_type": "display_data",
          "data": {
            "text/plain": [
              "<Figure size 432x288 with 2 Axes>"
            ],
            "image/png": "[encoded data removed]"
          },
          "metadata": {
            "needs_background": "light"
          }
        }
      ]
    },
    {
      "cell_type": "code",
      "source": [
        "prob_vec_train = models[3].predict(train_norm)\n",
        "prob_vec_test = models[3].predict(test_norm)"
      ],
      "metadata": {
        "id": "PX7LuTR2813Q"
      },
      "execution_count": 24,
      "outputs": []
    },
    {
      "cell_type": "code",
      "source": [
        "prob_vec_train[0]"
      ],
      "metadata": {
        "colab": {
          "base_uri": "https://localhost:8080/"
        },
        "id": "7WhBUeJ9-pr3",
        "outputId": "c583127f-a22c-452c-f078-a68fc13fb76e"
      },
      "execution_count": 25,
      "outputs": [
        {
          "output_type": "execute_result",
          "data": {
            "text/plain": [
              "array([1.8841200e-15, 9.2646287e-15, 1.3392450e-16, 3.9444308e-06,\n",
              "       8.9384338e-16, 9.9999607e-01, 1.5998899e-14, 2.8654507e-13,\n",
              "       5.1386300e-09, 1.5690953e-10], dtype=float32)"
            ]
          },
          "metadata": {},
          "execution_count": 25
        }
      ]
    },
    {
      "cell_type": "code",
      "source": [
        "prob_vec_test[0]"
      ],
      "metadata": {
        "colab": {
          "base_uri": "https://localhost:8080/"
        },
        "id": "rbkH2I_vHqx4",
        "outputId": "e9ed657a-3d80-47dc-b25c-04a4b5d7ebad"
      },
      "execution_count": 26,
      "outputs": [
        {
          "output_type": "execute_result",
          "data": {
            "text/plain": [
              "array([1.1746366e-12, 2.1489277e-11, 1.8845492e-10, 1.6553592e-09,\n",
              "       4.9971627e-10, 9.8249631e-13, 2.1672683e-16, 1.0000000e+00,\n",
              "       3.6388236e-11, 7.3155197e-11], dtype=float32)"
            ]
          },
          "metadata": {},
          "execution_count": 26
        }
      ]
    },
    {
      "cell_type": "code",
      "source": [
        "'''\n",
        "  # computes entropy for probability vectors\n",
        "  # prob_vec - probability vector\n",
        "'''\n",
        "def cal_entropy(prob_vec):\n",
        "  entropy = 0\n",
        "  for prob in prob_vec:\n",
        "    entropy = entropy + prob * math.log(prob, 2)\n",
        "  return -1 * entropy"
      ],
      "metadata": {
        "id": "DINYNLOdInK7"
      },
      "execution_count": 27,
      "outputs": []
    },
    {
      "cell_type": "code",
      "source": [
        "# compute average entropy for probability vector of training examples\n",
        "entropy_train = list()\n",
        "sum_prob_vec_train = 0\n",
        "\n",
        "for prob_vec in prob_vec_train:\n",
        "  cur_entropy = cal_entropy(prob_vec)\n",
        "  entropy_train.append(cur_entropy)\n",
        "  sum_prob_vec_train = sum_prob_vec_train + cur_entropy\n",
        "\n",
        "avg_train_entropy = sum_prob_vec_train / len(prob_vec_train)\n",
        "avg_train_entropy"
      ],
      "metadata": {
        "colab": {
          "base_uri": "https://localhost:8080/"
        },
        "id": "aVpo1ZBdJr3R",
        "outputId": "25d71d39-d76e-4721-bf86-cd51d956d797"
      },
      "execution_count": 28,
      "outputs": [
        {
          "output_type": "execute_result",
          "data": {
            "text/plain": [
              "0.010455172774532952"
            ]
          },
          "metadata": {},
          "execution_count": 28
        }
      ]
    },
    {
      "cell_type": "code",
      "source": [
        "# compute average entropy for probability vector of testing examples\n",
        "entropy_test = list()\n",
        "sum_prob_vec_test = 0\n",
        "\n",
        "for prob_vec in prob_vec_test:\n",
        "  cur_entropy = cal_entropy(prob_vec)\n",
        "  entropy_test.append(cur_entropy)\n",
        "  sum_prob_vec_test = sum_prob_vec_test + cur_entropy\n",
        "\n",
        "avg_test_entropy = sum_prob_vec_test / len(prob_vec_test)\n",
        "avg_test_entropy"
      ],
      "metadata": {
        "colab": {
          "base_uri": "https://localhost:8080/"
        },
        "id": "G_z-INvcK9NV",
        "outputId": "cf32475e-9bff-4da8-e245-3b992395f9bc"
      },
      "execution_count": 29,
      "outputs": [
        {
          "output_type": "execute_result",
          "data": {
            "text/plain": [
              "0.017423615142556942"
            ]
          },
          "metadata": {},
          "execution_count": 29
        }
      ]
    },
    {
      "cell_type": "code",
      "source": [
        "def cal_auc(train_vec, test_vec, pos_count, neg_count, inc_threshold = 0.1):\n",
        "  threshold = 0\n",
        "  tpr_list, fpr_list = list(), list()\n",
        "  auc = 0\n",
        "\n",
        "  while(threshold <= 1):\n",
        "    tp_count = 0\n",
        "    fp_count = 0\n",
        "\n",
        "    for val in train_vec:\n",
        "      if(val >= threshold):\n",
        "        tp_count += 1\n",
        "\n",
        "    for val in test_vec:\n",
        "      if(val >= threshold):\n",
        "        fp_count += 1\n",
        "\n",
        "    tpr = tp_count / pos_count\n",
        "    fpr = fp_count / neg_count\n",
        "\n",
        "    tpr_list.append(tpr)\n",
        "    fpr_list.append(fpr)\n",
        "\n",
        "    threshold += inc_threshold\n",
        "\n",
        "  for i in range(len(tpr_list) - 1):\n",
        "    diff_fpr = fpr_list[i] - fpr_list[i + 1]\n",
        "    sum_tpr = tpr_list[i] + tpr_list[i + 1]\n",
        "    mul = diff_fpr * sum_tpr / 2\n",
        "    auc += mul\n",
        "  \n",
        "  return auc"
      ],
      "metadata": {
        "id": "Qt6xV8AxL4ls"
      },
      "execution_count": 30,
      "outputs": []
    },
    {
      "cell_type": "code",
      "source": [
        "cal_auc(entropy_train, entropy_test, len(entropy_train), len(entropy_test), 0.01)"
      ],
      "metadata": {
        "colab": {
          "base_uri": "https://localhost:8080/"
        },
        "id": "G0zGiFGIWc8h",
        "outputId": "620e68ef-ca6f-4bed-8c38-73646adcb33b"
      },
      "execution_count": 31,
      "outputs": [
        {
          "output_type": "execute_result",
          "data": {
            "text/plain": [
              "0.49829897749999985"
            ]
          },
          "metadata": {},
          "execution_count": 31
        }
      ]
    },
    {
      "cell_type": "code",
      "source": [],
      "metadata": {
        "id": "EYjp_iaQdZTy"
      },
      "execution_count": 31,
      "outputs": []
    }
  ]
}